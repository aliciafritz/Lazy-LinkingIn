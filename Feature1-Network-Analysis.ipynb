{
 "cells": [
  {
   "cell_type": "markdown",
   "id": "ccf1ffa1",
   "metadata": {},
   "source": [
    "## New Feature #1 : Network Analysis \n",
    "\n",
    "Goal is to analyze the network structure of connections on personal LinkedIn account to identify key influencers or clusters of connections."
   ]
  },
  {
   "cell_type": "code",
   "execution_count": 5,
   "id": "422a5abc",
   "metadata": {},
   "outputs": [
    {
     "name": "stdout",
     "output_type": "stream",
     "text": [
      "                                              Notes:\n",
      "0  When exporting your connection data, you may n...\n",
      "1  First Name,Last Name,URL,Email Address,Company...\n",
      "2  Federica,Fragapane,https://www.linkedin.com/in...\n",
      "3  Santra,Roy,https://www.linkedin.com/in/santra-...\n",
      "4  Amber,Wutich,https://www.linkedin.com/in/amber...\n"
     ]
    }
   ],
   "source": [
    "# import needed packages\n",
    "import pandas\n",
    "import networkx\n",
    "import matplotlib.pyplot\n",
    "\n",
    "# import CSV with data from LinkedIn about connections\n",
    "csv_file_path = \"/Users/aliciafritz/Desktop/Connections.csv\"\n",
    "df = pandas.read_csv(csv_file_path, delimiter=\"\\t\")\n",
    "\n",
    "# show first few rows of data to verify CSV was imported correctly\n",
    "print(df.head())"
   ]
  },
  {
   "cell_type": "code",
   "execution_count": null,
   "id": "a4050655",
   "metadata": {},
   "outputs": [],
   "source": []
  }
 ],
 "metadata": {
  "kernelspec": {
   "display_name": "Python 3 (ipykernel)",
   "language": "python",
   "name": "python3"
  },
  "language_info": {
   "codemirror_mode": {
    "name": "ipython",
    "version": 3
   },
   "file_extension": ".py",
   "mimetype": "text/x-python",
   "name": "python",
   "nbconvert_exporter": "python",
   "pygments_lexer": "ipython3",
   "version": "3.11.4"
  }
 },
 "nbformat": 4,
 "nbformat_minor": 5
}
