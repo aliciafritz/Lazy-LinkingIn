{
 "cells": [
  {
   "cell_type": "markdown",
   "id": "ccf1ffa1",
   "metadata": {},
   "source": [
    "## New Feature #1 : Network Analysis \n",
    "\n",
    "Goal is to analyze the network structure of connections on personal LinkedIn account to identify key influencers or clusters of connections."
   ]
  },
  {
   "cell_type": "code",
   "execution_count": 4,
   "id": "422a5abc",
   "metadata": {},
   "outputs": [
    {
     "name": "stdout",
     "output_type": "stream",
     "text": [
      "Detected delimiter: ,\n"
     ]
    }
   ],
   "source": [
    "# import needed packages\n",
    "import pandas\n",
    "import networkx\n",
    "import matplotlib.pyplot\n",
    "import csv\n",
    "import random\n",
    "\n",
    "# import CSV with data from LinkedIn about connections\n",
    "csv_file_path = \"/Users/aliciafritz/Desktop/Connections.csv\"\n",
    "\n",
    "# verify what delimiter is used in the csv using first line of file\n",
    "with open(\"/Users/aliciafritz/Desktop/Connections.csv\", 'r', newline='') as file:\n",
    "    first_line = file.readline().strip()\n",
    "    dialect = csv.Sniffer().sniff(first_line)\n",
    "    print(\"Detected delimiter:\", dialect.delimiter)"
   ]
  },
  {
   "cell_type": "code",
   "execution_count": 7,
   "id": "a4050655",
   "metadata": {},
   "outputs": [
    {
     "name": "stdout",
     "output_type": "stream",
     "text": [
      "       First Name  Last Name  \\\n",
      "0        Federica  Fragapane   \n",
      "1          Santra        Roy   \n",
      "2           Amber     Wutich   \n",
      "3  Kadison Nicole     Willis   \n",
      "4            Adam      Marey   \n",
      "\n",
      "                                                 URL Email Address  \\\n",
      "0  https://www.linkedin.com/in/federica-fragapane...           NaN   \n",
      "1    https://www.linkedin.com/in/santra-elizebethroy           NaN   \n",
      "2  https://www.linkedin.com/in/amber-wutich-38210b62           NaN   \n",
      "3         https://www.linkedin.com/in/kadison-willis           NaN   \n",
      "4             https://www.linkedin.com/in/adam-marey           NaN   \n",
      "\n",
      "                             Company                      Position  \\\n",
      "0                          Freelance          Information Designer   \n",
      "1       Regalix - | Client -Google |     Senior Project Consultant   \n",
      "2           Arizona State University                     Professor   \n",
      "3  Executive Office of the President  Environmental Justice Intern   \n",
      "4                  Fullstack Academy        Web Development Mentor   \n",
      "\n",
      "  Connected On  \n",
      "0     1-Feb-24  \n",
      "1    28-Jan-24  \n",
      "2    22-Jan-24  \n",
      "3    21-Jan-24  \n",
      "4     9-Jan-24  \n"
     ]
    }
   ],
   "source": [
    "# show first few rows of data to verify CSV was imported correctly\n",
    "df = pandas.read_csv(csv_file_path, delimiter=\",\")\n",
    "print(df.head())"
   ]
  },
  {
   "cell_type": "code",
   "execution_count": 13,
   "id": "e89037df",
   "metadata": {},
   "outputs": [
    {
     "name": "stdout",
     "output_type": "stream",
     "text": [
      "Number of nodes: 269\n",
      "Number of edges: 36047\n",
      "Average degree: 268.0074349442379\n",
      "Shortest Path: <generator object all_pairs_shortest_path_length at 0x143058540>\n"
     ]
    }
   ],
   "source": [
    "# create grpah structure\n",
    "G = networkx.Graph()\n",
    "\n",
    "# add nodes and edges to the graph\n",
    "for index, row in df.iterrows():\n",
    "    # check for missing values aka blank cells in data frame\n",
    "    if not pandas.isna(row['First Name']) and not pandas.isna(row['Last Name']):\n",
    "        # convert to string and concatenate\n",
    "        source_node = str(row['First Name']) + ' ' + str(row['Last Name'])\n",
    "        G.add_node(source_node, \n",
    "                   url=row['URL'],\n",
    "                   email=row['Email Address'],\n",
    "                   company=row['Company'],\n",
    "                   position=row['Position'])\n",
    "    \n",
    "        # add edges (connections)\n",
    "        for index2, row2 in df.iterrows():\n",
    "            if index != index2 and not pandas.isna(row2['First Name']) and not pandas.isna(row2['Last Name']):\n",
    "                target_node = str(row2['First Name']) + ' ' + str(row2['Last Name'])\n",
    "                G.add_edge(source_node, \n",
    "                           target_node, \n",
    "                           connected_on=row['Connected On'])\n",
    "                \n",
    "# analyze the network structure by providing network stats\n",
    "print(\"Number of nodes:\", G.number_of_nodes())\n",
    "print(\"Number of edges:\", G.number_of_edges())\n",
    "print(\"Average degree:\", sum(dict(G.degree()).values()) / G.number_of_nodes())\n",
    "\n",
    "# find theshortest paths between nodes in the network\n",
    "shortest_path_lengths = networkx.shortest_path_length(G)\n",
    "print (\"Shortest Path:\", shortest_path_lengths)"
   ]
  },
  {
   "cell_type": "code",
   "execution_count": null,
   "id": "9bdee288",
   "metadata": {},
   "outputs": [],
   "source": []
  }
 ],
 "metadata": {
  "kernelspec": {
   "display_name": "Python 3 (ipykernel)",
   "language": "python",
   "name": "python3"
  },
  "language_info": {
   "codemirror_mode": {
    "name": "ipython",
    "version": 3
   },
   "file_extension": ".py",
   "mimetype": "text/x-python",
   "name": "python",
   "nbconvert_exporter": "python",
   "pygments_lexer": "ipython3",
   "version": "3.11.4"
  }
 },
 "nbformat": 4,
 "nbformat_minor": 5
}
