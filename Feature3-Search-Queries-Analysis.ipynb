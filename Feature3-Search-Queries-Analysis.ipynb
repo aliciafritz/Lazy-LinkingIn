{
 "cells": [
  {
   "cell_type": "markdown",
   "id": "6d03ba47",
   "metadata": {},
   "source": [
    "## Feature 3: Search Queries Analysis\n",
    "\n",
    "Finds top 5 most frequent seraches from LinkedIn and provides a graph of all searches over time."
   ]
  },
  {
   "cell_type": "code",
   "execution_count": null,
   "id": "de370d8a",
   "metadata": {},
   "outputs": [],
   "source": []
  }
 ],
 "metadata": {
  "kernelspec": {
   "display_name": "Python 3 (ipykernel)",
   "language": "python",
   "name": "python3"
  },
  "language_info": {
   "codemirror_mode": {
    "name": "ipython",
    "version": 3
   },
   "file_extension": ".py",
   "mimetype": "text/x-python",
   "name": "python",
   "nbconvert_exporter": "python",
   "pygments_lexer": "ipython3",
   "version": "3.11.4"
  }
 },
 "nbformat": 4,
 "nbformat_minor": 5
}
